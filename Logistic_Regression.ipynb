{
  "nbformat": 4,
  "nbformat_minor": 0,
  "metadata": {
    "colab": {
      "provenance": []
    },
    "kernelspec": {
      "name": "python3",
      "display_name": "Python 3"
    },
    "language_info": {
      "name": "python"
    }
  },
  "cells": [
    {
      "cell_type": "code",
      "execution_count": null,
      "metadata": {
        "id": "ib-hcJCJ9PKP"
      },
      "outputs": [],
      "source": []
    },
    {
      "cell_type": "markdown",
      "source": [
        "# ***Theoretical***"
      ],
      "metadata": {
        "id": "8SlEowEq92IL"
      }
    },
    {
      "cell_type": "code",
      "source": [
        "'''\n",
        "Q. 1 :- What is Logistic Regression, and how does it differ from Linear Regression.\n",
        "Ans :- Logistic Regression\n",
        "Despite the name, it’s actually used for classification, not regression. Its job is to estimate the probability that a data point belongs to a particular class (e.g. “Yes” or “No”, “Spam” or “Not Spam”). It does this using the logistic (sigmoid) function, which squashes the output of a linear combination of features into a range between 0 and 1. If the output probability is above a threshold (commonly 0.5), it assigns one class; otherwise, another.\n",
        "Linear Regression\n",
        "This one is for predicting continuous values—like forecasting sales, temperature, or house prices. It fits a straight line (or hyperplane) to the data by minimizing the mean squared error between predicted and actual values. The output can take any real number, positive or negative.\n",
        "\n",
        "Q. 2:- What is the mathematical equation of Logistic Regression.\n",
        "Ans :- Logistic Regression might wear a \"regression\" label, but its goal is to classify, not predict continuous outcomes. At the heart of it is a beautiful equation that wraps a linear function inside a sigmoid curve.\n",
        "Here’s the mathematical form:\n",
        "[ P(y = 1 \\mid \\mathbf{x}) = \\frac{1}{1 + e^{-(\\beta_0 + \\beta_1 x_1 + \\beta_2 x_2 + \\dots + \\beta_n x_n)}} ]\n",
        "\n",
        "Q. 3:- Why do we use the Sigmoid function in Logistic Regression.\n",
        "Ans :- We use the sigmoid function in Logistic Regression because it transforms the output of a linear equation into a value between 0 and 1—just what we need when predicting probabilities for binary classification.\n",
        "Here’s what the sigmoid function looks like:\n",
        "[ \\sigma(z) = \\frac{1}{1 + e^{-z}} ]\n",
        "\n",
        "Q. 4 :- What is the cost function of Logistic Regression.\n",
        "Ans :- In logistic regression, the cost function is designed to measure how well the model's predicted probabilities match the actual class labels. Since logistic regression is used for binary classification, we can’t use the mean squared error (like in linear regression), because it would result in a non-convex function—making optimization tricky.\n",
        "Instead, we use the log loss (also called logistic loss or binary cross-entropy). Here's what it looks like:\n",
        "[ J(\\theta) = -\\frac{1}{m} \\sum_{i=1}{(i)} \\log(h_\\theta(x^{(i)})) + (1 - y^{(i)}) \\log(1 - h_\\theta(x^{(i)})) \\right] ]\n",
        "Where:\n",
        "- ( m ) is the number of training examples\n",
        "- ( y^{(i)} ) is the actual label for example ( i )\n",
        "- ( h_\\theta(x^{(i)}) ) is the predicted probability that the label is 1 (using the sigmoid function)\n",
        "\n",
        "Q. 5 :- What is Regularization in Logistic Regression? Why is it needed.\n",
        "Ans :- Regularization in logistic regression is like a safeguard against overfitting. It adds a penalty to the cost function to discourage the model from becoming too complex or relying too heavily on any one feature.\n",
        "Why it's needed\n",
        "Without regularization, logistic regression might assign very large weights to certain features—especially in high-dimensional datasets—just to perfectly fit the training data. This can lead to a model that performs well on training data but poorly on unseen data (i.e., it doesn’t generalize well).\n",
        "\n",
        "Q. 6 :- Explain the difference between Lasso, Ridge, and Elastic Net regression.\n",
        "Ans :- Ridge Regression (L2 Regularization)\n",
        "Ridge adds a penalty equal to the square of the magnitude of coefficients. It shrinks coefficients but doesn’t eliminate them entirely. This is especially useful when you have many correlated features — it spreads the weight across them rather than picking just one.\n",
        "[ \\text{Loss} = \\text{RSS} + \\lambda \\sum_{j=1}2 ]\n",
        "- Keeps all features in the model\n",
        "- Good for multicollinearity\n",
        "- Doesn’t perform feature selection\n",
        "Lasso Regression (L1 Regularization)\n",
        "Lasso adds a penalty equal to the absolute value of the coefficients. This can shrink some coefficients to exactly zero, effectively performing feature selection.\n",
        "[ \\text{Loss} = \\text{RSS} + \\lambda \\sum_{j=1}^{n} |\\beta_j| ]\n",
        "- Can eliminate irrelevant features\n",
        "- Useful when you suspect only a few features are important\n",
        "- Can be unstable when features are highly correlated\n",
        "Elastic Net Regression\n",
        "Elastic Net is the best of both worlds — it combines L1 and L2 penalties. It’s especially helpful when you have many features and some are correlated.\n",
        "[ \\text{Loss} = \\text{RSS} + \\lambda \\left[ \\alpha \\sum |\\beta_j| + (1 - \\alpha) \\sum \\beta_j^2 \\right] ]\n",
        "- Balances between Ridge and Lasso\n",
        "- Performs feature selection and handles multicollinearity\n",
        "- Controlled by two parameters: ( \\lambda ) (penalty strength) and ( \\alpha ) (mixing ratio)\n",
        "\n",
        "Q. 7 :-  When should we use Elastic Net instead of Lasso or Ridge.\n",
        "Ans :- Elastic Net is your go-to when you’re dealing with many features, especially when some of them are highly correlated or when you suspect that only a few are truly important, but you're not sure which ones.\n",
        "Here’s when Elastic Net shines:\n",
        "- High-dimensional data: If the number of predictors is greater than the number of observations (like in genomics or text classification), Elastic Net helps by combining the strengths of both Lasso and Ridge.\n",
        "- Correlated features: Lasso tends to pick one feature from a group and ignore the rest, while Ridge spreads the weight. Elastic Net balances both, often selecting groups of correlated features together.\n",
        "- Model stability: Lasso can be unstable when predictors are highly correlated. Elastic Net smooths this out by blending in Ridge’s regularization\n",
        "\n",
        "Q. 8 :- What is the impact of the regularization parameter (λ) in Logistic Regression.\n",
        "Ans :- The regularization parameter ( \\lambda ) in logistic regression acts like a dial that controls the balance between fitting the training data well and keeping the model simple to avoid overfitting.\n",
        "Here's how it impacts the model:\n",
        "- Large ( \\lambda ): Strong regularization. This heavily penalizes large weights, pushing the model to keep coefficients small. It reduces variance but may increase bias — meaning the model might underfit the data.\n",
        "- Small ( \\lambda ): Weak regularization. The model has more freedom to fit the training data, which can lead to overfitting — especially if the dataset is noisy or high-dimensional.\n",
        "- ( \\lambda = 0 ): No regularization at all. The model behaves like standard logistic regression, which might perfectly fit the training data but generalize poorly.\n",
        "In practice, tuning ( \\lambda ) is crucial. It’s often done using cross-validation to find the sweet spot where the model performs best on unseen data.\n",
        "Fun fact: in libraries like scikit-learn, the parameter is often expressed as ( C = \\frac{1}{\\lambda} ), so a smaller ( C ) means stronger regularization.\n",
        "Want to try visualizing how different values of ( \\lambda ) affect decision boundaries or model accuracy? I can help set that up.\n",
        "\n",
        "\n",
        "Q. 9 :- What are the key assumptions of Logistic Regression.\n",
        "Ans :- Logistic regression may seem flexible, but it does rest on a few important assumptions to ensure its predictions are reliable. Here are the key ones:\n",
        "1. Binary or Categorical Outcome\n",
        "The dependent variable should be binary (e.g., 0 or 1, Yes or No). If there are more than two categories, you'd need multinomial or ordinal logistic regression instead.\n",
        "2. Independence of Observations\n",
        "Each observation should be independent of the others. This means no repeated measures or clustering unless you're using a model designed for that (like mixed-effects logistic regression).\n",
        "3. Linearity of Log Odds\n",
        "While logistic regression doesn’t assume a linear relationship between predictors and the outcome, it does assume a linear relationship between the predictors and the log odds of the outcome.\n",
        "\n",
        "4. No Multicollinearity\n",
        "Predictors should not be highly correlated with each other. Severe multicollinearity can distort the estimated coefficients and make interpretation difficult. Variance Inflation Factor (VIF) is often used to check this.\n",
        "5. No Extreme Outliers\n",
        "Outliers can have a big influence on the model’s coefficients. It’s good practice to detect and handle them before fitting the model—Cook’s distance is one way to do this.\n",
        "6. Large Sample Size\n",
        "Logistic regression performs best with a reasonably large dataset. Small sample sizes can lead to unstable estimates and poor generalization\n",
        "\n",
        "Q. 10 :- What are some alternatives to Logistic Regression for classification tasks.\n",
        "Ans :- There are plenty of powerful alternatives to logistic regression, each with its own strengths depending on the nature of your data and the problem you're tackling. Here’s a quick tour of the most popular ones:\n",
        "1. Decision Trees\n",
        "Simple and interpretable, decision trees split the data based on feature values. They’re great when you want a model that’s easy to explain, but they can overfit without pruning.\n",
        "2. Random Forests\n",
        "An ensemble of decision trees that reduces overfitting by averaging predictions. It’s robust, handles non-linear relationships well, and works great out of the box.\n",
        "3. Support Vector Machines (SVM)\n",
        "SVMs find the optimal hyperplane that separates classes. They’re especially effective in high-dimensional spaces and can handle non-linear boundaries using kernel tricks.\n",
        "4. K-Nearest Neighbors (KNN)\n",
        "A lazy learner that classifies based on the majority class among the k closest data points. It’s intuitive but can be slow with large datasets and sensitive to feature scaling.\n",
        "5. Naive Bayes\n",
        "Based on Bayes’ theorem with a strong independence assumption between features. Surprisingly effective for text classification and spam detection.\n",
        "6. Gradient Boosting Machines (GBM, XGBoost, LightGBM)\n",
        "These are ensemble methods that build models sequentially to correct errors from previous ones. They often outperform other models in structured data competitions.\n",
        "7. Neural Networks\n",
        "Especially useful when you have large datasets and complex patterns. They can model non-linear relationships but require more tuning and computational power.\n",
        "8. Poisson or Log-Binomial Regression\n",
        "These are statistical alternatives that can be used when logistic regression assumptions don’t hold, though they’re less common and can have convergence issues\n",
        "\n",
        "Q. 11 :- What are Classification Evaluation Metrics.\n",
        "Ans :- Classification evaluation metrics help us understand how well a model is performing at predicting class labels. Here’s a breakdown of the most commonly used ones:\n",
        "1. Accuracy\n",
        "The ratio of correctly predicted observations to the total observations. It’s intuitive but can be misleading if the classes are imbalanced.\n",
        "[ \\text{Accuracy} = \\frac{\\text{TP + TN}}{\\text{TP + TN + FP + FN}} ]\n",
        "2. Precision\n",
        "Out of all the positive predictions, how many were actually correct?\n",
        "[ \\text{Precision} = \\frac{\\text{TP}}{\\text{TP + FP}} ]\n",
        "Useful when the cost of false positives is high (e.g., spam detection).\n",
        "3. Recall (Sensitivity or True Positive Rate)\n",
        "Out of all actual positives, how many did the model correctly identify?\n",
        "[ \\text{Recall} = \\frac{\\text{TP}}{\\text{TP + FN}} ]\n",
        "Important when missing a positive case is costly (e.g., disease detection).\n",
        "4. F1 Score\n",
        "The harmonic mean of precision and recall. It balances the two, especially when you need a single metric to compare models.\n",
        "[ \\text{F1} = 2 \\cdot \\frac{\\text{Precision} \\cdot \\text{Recall}}{\\text{Precision + Recall}} ]\n",
        "5. Confusion Matrix\n",
        "A table that shows the counts of true positives (TP), true negatives (TN), false positives (FP), and false negatives (FN). It gives a complete picture of model performance.\n",
        "6. AUC-ROC (Area Under the Receiver Operating Characteristic Curve)\n",
        "Measures the model’s ability to distinguish between classes. A higher AUC means better performance across different classification thresholds.\n",
        "7. Log Loss (Logarithmic Loss)\n",
        "Penalizes false classifications based on the confidence of the prediction. Lower log loss indicates better calibrated probabilities\n",
        "\n",
        "Q. 12 :- How does class imbalance affect Logistic Regression.\n",
        "Ans :- Class imbalance can throw a serious wrench into logistic regression’s performance, especially when one class significantly outweighs the other (like 95% vs 5%).\n",
        "Here's how it affects the model:\n",
        "- Biased predictions: Logistic regression tends to favor the majority class, often predicting it by default. This can lead to deceptively high accuracy but poor performance on the minority class — which might be the one you care about most (e.g., fraud detection, disease diagnosis).\n",
        "- Skewed decision boundary: The model may learn a decision boundary that’s too close to the minority class, making it harder to correctly classify those rare cases.\n",
        "- Poor recall for minority class: You might see high precision but very low recall for the minority class, meaning the model misses many true positives.\n",
        "\n",
        "Q. 13 :- What is Hyperparameter Tuning in Logistic Regression.\n",
        "Ans :- Hyperparameter tuning in logistic regression is the process of finding the best combination of settings that control how the model learns — without being directly learned from the data itself. These settings, or hyperparameters, influence the model’s complexity, generalization ability, and ultimately its performance.\n",
        "\n",
        "Q. 14 :- What are different solvers in Logistic Regression? Which one should be used.\n",
        "Ans :- In logistic regression, solvers are optimization algorithms used to minimize the cost function and find the best model parameters. Each solver has its own strengths depending on the dataset size, sparsity, and the type of regularization you’re using.\n",
        "\n",
        "Q. 15 :- How is Logistic Regression extended for multiclass classification.\n",
        "Ans :- Logistic regression is naturally built for binary classification, but it can be extended to handle multiclass classification using two main strategies:\n",
        "1. One-vs-Rest (OvR)\n",
        "Also called One-vs-All, this approach trains one binary classifier per class. Each classifier predicts whether a sample belongs to its class or not. During prediction, the model with the highest confidence wins.\n",
        "- Simple and widely supported (e.g., in scikit-learn)\n",
        "- Can be inefficient if the number of classes is large\n",
        "2. Multinomial Logistic Regression (Softmax Regression)\n",
        "This is a direct generalization of logistic regression for multiple classes. Instead of modeling the probability of one class, it models the probability distribution over all classes using the softmax function:\n",
        "[ P(y = k \\mid x) = \\frac{e^{\\theta_k{K} e^{\\theta_j^T x}} ]\n",
        "Where ( K ) is the number of classes, and each class has its own parameter vector ( \\theta_k ).\n",
        "- More elegant and efficient for multiclass problems\n",
        "- Requires solvers that support the 'multinomial' option (like lbfgs or saga in scikit-learn)\n",
        "When to Use What?\n",
        "- Use OvR if you're working with a simple model or a library that doesn’t support multinomial loss.\n",
        "- Use Multinomial Logistic Regression when you want a more probabilistically sound and efficient approach for multiclass tasks.\n",
        "If you’d like, I can show you how to implement both in Python or compare their performance on a dataset. Just say the word!.\n",
        "2. Multinomial Logistic Regression (Softmax Regression)\n",
        "This is a direct generalization of logistic regression for multiple classes. Instead of modeling the probability of one class, it models the probability distribution over all classes using the softmax function:\n",
        "[ P(y = k \\mid x) = \\frac{e^{\\theta_k{K} e^{\\theta_j^T x}} ]\n",
        "Where ( K ) is the number of classes, and each class has its own parameter vector ( \\theta_k ).\n",
        "- More elegant and efficient for multiclass problems\n",
        "- Requires solvers that support the 'multinomial' option (like lbfgs or saga in scikit-learn)\n",
        "\n",
        "Q. 16 :- What are the advantages and disadvantages of Logistic Regression.\n",
        "Ans :- Logistic regression is a classic for a reason — it’s simple, fast, and surprisingly effective in many situations. But like any tool, it has its trade-offs. Here's a balanced look:\n",
        "Advantages\n",
        "- Easy to implement and interpret: The math is straightforward, and the output (odds ratios, coefficients) is easy to explain — great for transparency.\n",
        "- Efficient to train: It’s computationally light, making it ideal for quick iterations or large datasets.\n",
        "- Probabilistic output: It doesn’t just give a class label — it gives the probability, which is useful for decision-making.\n",
        "- Works well with linearly separable data: If your classes are nicely divided by a straight line (or plane), logistic regression performs beautifully.\n",
        "- Extensible: It can be adapted for multiclass problems (via softmax) and regularized (L1, L2, Elastic Net) to improve generalization.\n",
        "Disadvantages\n",
        "- Assumes linearity in the log-odds: It can’t naturally capture complex, non-linear relationships unless you manually engineer features.\n",
        "- Sensitive to outliers: Extreme values can skew the model unless handled properly.\n",
        "- Struggles with multicollinearity: Highly correlated features can distort coefficient estimates.\n",
        "- Not ideal for small sample sizes: Especially when the number of features is large — it can overfit or produce unstable estimates.\n",
        "- Limited to binary or categorical outcomes: It’s not suitable for regression tasks or ordinal outcomes without modification.\n",
        "\n",
        "Q. 17 :- What are some use cases of Logistic Regression.\n",
        "Ans :- Logistic regression is a versatile workhorse in the machine learning world — especially when you need fast, interpretable models for classification. Here are some real-world use cases where it shines:\n",
        "1. Medical Diagnosis\n",
        "Predicting whether a patient has a disease (e.g., diabetes, cancer) based on clinical features like age, blood pressure, and test results. It’s favored for its interpretability in high-stakes decisions.\n",
        "2. Credit Scoring\n",
        "Banks use logistic regression to assess the likelihood of a borrower defaulting on a loan. It helps in making transparent, data-driven lending decisions.\n",
        "3. Marketing and Customer Retention\n",
        "Used to predict whether a customer will respond to a campaign or churn. Features might include purchase history, engagement metrics, or demographics.\n",
        "4. Spam Detection\n",
        "Classifies emails as spam or not spam based on word frequencies, sender info, and other metadata. It’s lightweight and effective for this binary task.\n",
        "5. Fraud Detection\n",
        "Helps flag potentially fraudulent transactions by modeling the probability of fraud based on transaction patterns, location, and user behavior.\n",
        "6. Voting Behavior Prediction\n",
        "Political analysts use it to predict whether someone will vote for a particular party based on survey responses and demographic data.\n",
        "7. Image Classification (Simplified Tasks)\n",
        "While not ideal for complex image tasks, logistic regression can be used for basic binary image classification — like distinguishing between handwritten digits 0 and 1.\n",
        "\n",
        "Q. 18 :- What is the difference between Softmax Regression and Logistic Regression.\n",
        "Ans :- Softmax regression and logistic regression are closely related — in fact, softmax is a generalization of logistic regression for multiclass problems.\n",
        "Logistic Regression\n",
        "- Used for binary classification (two classes: 0 or 1).\n",
        "- Uses the sigmoid function to map predictions to probabilities between 0 and 1.\n",
        "- Outputs a single probability for the positive class; the other is just 1 minus that.\n",
        "[ P(y = 1 \\mid x) = \\frac{1}{1 + e^{-\\theta^T x}} ]\n",
        "Softmax Regression (Multinomial Logistic Regression)\n",
        "- Used for multiclass classification (more than two classes).\n",
        "- Uses the softmax function to output a probability distribution over all classes.\n",
        "- Each class gets its own score, and the softmax normalizes them so they sum to 1.\n",
        "[ P(y = k \\mid x) = \\frac{e^{\\theta_k{K} e^{\\theta_j^T x}} ]\n",
        "\n",
        "Q. 19 :- How do we choose between One-vs-Rest (OvR) and Softmax for multiclass classification.\n",
        "Ans :- Choosing between One-vs-Rest (OvR) and Softmax (Multinomial Logistic Regression) depends on your dataset, model requirements, and computational constraints. Here's how to think about it:\n",
        " One-vs-Rest (OvR)\n",
        "- How it works: Trains one binary classifier per class. Each model learns to distinguish one class from all others.\n",
        "- When to use it:\n",
        "- You’re using a binary classifier (like SVM or basic logistic regression) that doesn’t natively support multiclass.\n",
        "- You want interpretability — each model is simpler and easier to analyze.\n",
        "- You have a small number of classes and limited computational resources.\n",
        "Softmax (Multinomial Logistic Regression)\n",
        "- How it works: Trains a single model that directly estimates the probability distribution across all classes using the softmax function.\n",
        "- When to use it:\n",
        "- You want a probabilistically sound model that considers all classes simultaneously.\n",
        "- You’re using solvers like lbfgs or saga that support multinomial loss.\n",
        "- You care about calibrated probabilities and better decision boundaries in multiclass settings\n",
        "\n",
        "Q. 20 :- How do we interpret coefficients in Logistic Regression?\n",
        "Ans :- Interpreting coefficients in logistic regression is all about understanding how each predictor affects the log odds of the outcome — and, by extension, the odds or probability of the event occurring.\n",
        "Step-by-step interpretation:\n",
        "1. Raw Coefficients (β)\n",
        "Each coefficient represents the change in the log odds of the outcome for a one-unit increase in the predictor, holding all other variables constant.\n",
        "Example:\n",
        "If ( \\beta = 0.7 ), then a one-unit increase in that predictor increases the log odds by 0.7.\n",
        "2. Exponentiated Coefficients (Odds Ratios)\n",
        "To make interpretation more intuitive, we exponentiate the coefficient:\n",
        "[ \\text{Odds Ratio} = e^{\\beta} ]\n",
        "- If ( e^{\\beta} > 1 ): the odds of the outcome increase\n",
        "- If ( e^{\\beta} < 1 ): the odds decrease\n",
        "- If ( e^{\\beta} = 1 ): no effect\n",
        "Example:\n",
        "If ( \\beta = 0.7 ), then ( e^{0.7} \\approx 2.01 ). That means the odds of the outcome are about twice as high for each one-unit increase in the predictor.\n",
        "3. Negative Coefficients\n",
        "A negative coefficient means the predictor decreases the log odds of the outcome. For example, ( \\beta = -0.5 ) implies ( e^{-0.5} \\approx 0.61 ), or a 39% decrease in the odds.\n",
        "4. Categorical Variables\n",
        "For binary variables (e.g., Male = 1, Female = 0), the coefficient tells you how the odds change when the variable is 1 vs 0. For multi-category variables, interpretation is relative to a reference category.\n",
        "\n",
        "\n",
        "\n",
        "\n",
        "\n",
        "\n",
        "'''"
      ],
      "metadata": {
        "id": "fIFAMbYK-AQ5"
      },
      "execution_count": null,
      "outputs": []
    },
    {
      "cell_type": "markdown",
      "source": [
        "# ***Practical***"
      ],
      "metadata": {
        "id": "Bxt3TsfSHHYs"
      }
    },
    {
      "cell_type": "code",
      "source": [
        "# Q. 1 :- Write a Python program that loads a dataset, splits it into training and testing sets, applies Logistic Regression, and prints the model accuracy.\n",
        "# Ans :-\n",
        "\n",
        "import pandas as pd\n",
        "from sklearn.model_selection import train_test_split\n",
        "from sklearn.linear_model import LogisticRegression\n",
        "from sklearn.metrics import accuracy_score\n",
        "from sklearn.datasets import load_breast_cancer\n",
        "\n",
        "# Load example dataset (you can replace this with your own dataset)\n",
        "data = load_breast_cancer()\n",
        "X = pd.DataFrame(data.data, columns=data.feature_names)\n",
        "y = pd.Series(data.target)\n",
        "\n",
        "# Split into training and testing sets\n",
        "X_train, X_test, y_train, y_test = train_test_split(X, y, test_size=0.2, random_state=42)\n",
        "\n",
        "# Create and train the logistic regression model\n",
        "model = LogisticRegression(max_iter=10000)  # Increase max_iter to ensure convergence\n",
        "model.fit(X_train, y_train)\n",
        "\n",
        "# Make predictions on the test set\n",
        "y_pred = model.predict(X_test)\n",
        "\n",
        "# Evaluate and print model accuracy\n",
        "accuracy = accuracy_score(y_test, y_pred)\n",
        "print(f\"Logistic Regression Model Accuracy: {accuracy:.4f}\")\n"
      ],
      "metadata": {
        "colab": {
          "base_uri": "https://localhost:8080/"
        },
        "id": "5ixDSOLNHLd4",
        "outputId": "98d8ee2b-6e52-4c1c-97f2-e74709d01a7e"
      },
      "execution_count": 1,
      "outputs": [
        {
          "output_type": "stream",
          "name": "stdout",
          "text": [
            "Logistic Regression Model Accuracy: 0.9561\n"
          ]
        }
      ]
    },
    {
      "cell_type": "code",
      "source": [
        "# Q. 2 :- Write a Python program to apply L1 regularization (Lasso) on a dataset using LogisticRegression(penalty='l1') and print the model accuracy.\n",
        "# Ans :-\n",
        "\n",
        "import pandas as pd\n",
        "from sklearn.datasets import load_breast_cancer\n",
        "from sklearn.model_selection import train_test_split\n",
        "from sklearn.linear_model import LogisticRegression\n",
        "from sklearn.metrics import accuracy_score\n",
        "\n",
        "# Load sample dataset\n",
        "data = load_breast_cancer()\n",
        "X = pd.DataFrame(data.data, columns=data.feature_names)\n",
        "y = pd.Series(data.target)\n",
        "\n",
        "# Split into training and test sets\n",
        "X_train, X_test, y_train, y_test = train_test_split(X, y, test_size=0.2, random_state=42)\n",
        "\n",
        "# Create and train the logistic regression model with L1 regularization\n",
        "model = LogisticRegression(penalty='l1', solver='liblinear', C=1.0)  # 'liblinear' supports L1 penalty\n",
        "model.fit(X_train, y_train)\n",
        "\n",
        "# Make predictions\n",
        "y_pred = model.predict(X_test)\n",
        "\n",
        "# Calculate and print accuracy\n",
        "accuracy = accuracy_score(y_test, y_pred)\n",
        "print(f\"L1-Regularized Logistic Regression Accuracy: {accuracy:.4f}\")"
      ],
      "metadata": {
        "colab": {
          "base_uri": "https://localhost:8080/"
        },
        "id": "7kzQzaZcHdCX",
        "outputId": "d950b2f6-8c9d-4f4d-f4dc-0341125d37d9"
      },
      "execution_count": 2,
      "outputs": [
        {
          "output_type": "stream",
          "name": "stdout",
          "text": [
            "L1-Regularized Logistic Regression Accuracy: 0.9561\n"
          ]
        },
        {
          "output_type": "stream",
          "name": "stderr",
          "text": [
            "/usr/local/lib/python3.11/dist-packages/sklearn/svm/_base.py:1249: ConvergenceWarning: Liblinear failed to converge, increase the number of iterations.\n",
            "  warnings.warn(\n"
          ]
        }
      ]
    },
    {
      "cell_type": "code",
      "source": [
        "# Q. 3 :-  Write a Python program to train Logistic Regression with L2 regularization (Ridge) using LogisticRegression(penalty='l2'). Print model accuracy and coefficients.\n",
        "# Ans :-\n",
        "\n",
        "import pandas as pd\n",
        "from sklearn.datasets import load_breast_cancer\n",
        "from sklearn.model_selection import train_test_split\n",
        "from sklearn.linear_model import LogisticRegression\n",
        "from sklearn.metrics import accuracy_score\n",
        "\n",
        "# Load dataset\n",
        "data = load_breast_cancer()\n",
        "X = pd.DataFrame(data.data, columns=data.feature_names)\n",
        "y = pd.Series(data.target)\n",
        "\n",
        "# Split into training and testing sets\n",
        "X_train, X_test, y_train, y_test = train_test_split(X, y, test_size=0.2, random_state=42)\n",
        "\n",
        "# Train logistic regression with L2 regularization (default)\n",
        "model = LogisticRegression(penalty='l2', solver='lbfgs', max_iter=1000)\n",
        "model.fit(X_train, y_train)\n",
        "\n",
        "# Predict and evaluate\n",
        "y_pred = model.predict(X_test)\n",
        "accuracy = accuracy_score(y_test, y_pred)\n",
        "\n",
        "# Output results\n",
        "print(f\"L2-Regularized Logistic Regression Accuracy: {accuracy:.4f}\")\n",
        "print(\"\\nModel Coefficients:\")\n",
        "for feature, coef in zip(X.columns, model.coef_[0]):\n",
        "    print(f\"{feature}: {coef:.4f}\")\n"
      ],
      "metadata": {
        "colab": {
          "base_uri": "https://localhost:8080/"
        },
        "id": "pEW690jCH6Oc",
        "outputId": "aa97a4f3-99e8-4a0b-be48-577d121d4fdd"
      },
      "execution_count": 3,
      "outputs": [
        {
          "output_type": "stream",
          "name": "stdout",
          "text": [
            "L2-Regularized Logistic Regression Accuracy: 0.9561\n",
            "\n",
            "Model Coefficients:\n",
            "mean radius: 2.0998\n",
            "mean texture: 0.1325\n",
            "mean perimeter: -0.1035\n",
            "mean area: -0.0026\n",
            "mean smoothness: -0.1702\n",
            "mean compactness: -0.3798\n",
            "mean concavity: -0.6912\n",
            "mean concave points: -0.4081\n",
            "mean symmetry: -0.2351\n",
            "mean fractal dimension: -0.0236\n",
            "radius error: -0.0854\n",
            "texture error: 1.1225\n",
            "perimeter error: -0.3258\n",
            "area error: -0.0652\n",
            "smoothness error: -0.0237\n",
            "compactness error: 0.0596\n",
            "concavity error: 0.0045\n",
            "concave points error: -0.0428\n",
            "symmetry error: -0.0415\n",
            "fractal dimension error: 0.0143\n",
            "worst radius: 0.9663\n",
            "worst texture: -0.3771\n",
            "worst perimeter: -0.0586\n",
            "worst area: -0.0240\n",
            "worst smoothness: -0.3177\n",
            "worst compactness: -1.0044\n",
            "worst concavity: -1.5713\n",
            "worst concave points: -0.6935\n",
            "worst symmetry: -0.8410\n",
            "worst fractal dimension: -0.0931\n"
          ]
        },
        {
          "output_type": "stream",
          "name": "stderr",
          "text": [
            "/usr/local/lib/python3.11/dist-packages/sklearn/linear_model/_logistic.py:465: ConvergenceWarning: lbfgs failed to converge (status=1):\n",
            "STOP: TOTAL NO. OF ITERATIONS REACHED LIMIT.\n",
            "\n",
            "Increase the number of iterations (max_iter) or scale the data as shown in:\n",
            "    https://scikit-learn.org/stable/modules/preprocessing.html\n",
            "Please also refer to the documentation for alternative solver options:\n",
            "    https://scikit-learn.org/stable/modules/linear_model.html#logistic-regression\n",
            "  n_iter_i = _check_optimize_result(\n"
          ]
        }
      ]
    },
    {
      "cell_type": "code",
      "source": [
        "# Q. 4 :- Write a Python program to train Logistic Regression with Elastic Net Regularization (penalty='elasticnet').\n",
        "# Ans :-\n",
        "import pandas as pd\n",
        "from sklearn.datasets import load_breast_cancer\n",
        "from sklearn.model_selection import train_test_split\n",
        "from sklearn.linear_model import LogisticRegression\n",
        "from sklearn.metrics import accuracy_score\n",
        "\n",
        "# Load dataset\n",
        "data = load_breast_cancer()\n",
        "X = pd.DataFrame(data.data, columns=data.feature_names)\n",
        "y = pd.Series(data.target)\n",
        "\n",
        "# Split into training and testing sets\n",
        "X_train, X_test, y_train, y_test = train_test_split(X, y, test_size=0.2, random_state=42)\n",
        "\n",
        "# Train logistic regression with Elastic Net regularization\n",
        "model = LogisticRegression(\n",
        "    penalty='elasticnet',\n",
        "    solver='saga',\n",
        "    l1_ratio=0.5,       # Mix of L1 and L2 (0 = Ridge, 1 = Lasso)\n",
        "    C=1.0,              # Inverse of regularization strength\n",
        "    max_iter=10000\n",
        ")\n",
        "model.fit(X_train, y_train)\n",
        "\n",
        "# Predict and evaluate\n",
        "y_pred = model.predict(X_test)\n",
        "accuracy = accuracy_score(y_test, y_pred)\n",
        "\n",
        "# Output results\n",
        "print(f\"Elastic Net Logistic Regression Accuracy: {accuracy:.4f}\")\n"
      ],
      "metadata": {
        "colab": {
          "base_uri": "https://localhost:8080/"
        },
        "id": "zQMZefMgIPym",
        "outputId": "e5e63c0a-0666-4a7b-c888-5905cfdf3b51"
      },
      "execution_count": 4,
      "outputs": [
        {
          "output_type": "stream",
          "name": "stdout",
          "text": [
            "Elastic Net Logistic Regression Accuracy: 0.9737\n"
          ]
        }
      ]
    },
    {
      "cell_type": "code",
      "source": [
        "# Q. 5 :- Write a Python program to train a Logistic Regression model for multiclass classification using multi_class='ovr'.\n",
        "# Ans :-\n",
        "\n",
        "import pandas as pd\n",
        "from sklearn.datasets import load_iris\n",
        "from sklearn.model_selection import train_test_split\n",
        "from sklearn.linear_model import LogisticRegression\n",
        "from sklearn.metrics import accuracy_score\n",
        "\n",
        "# Load a multiclass dataset (Iris)\n",
        "data = load_iris()\n",
        "X = pd.DataFrame(data.data, columns=data.feature_names)\n",
        "y = pd.Series(data.target)\n",
        "\n",
        "# Split into training and testing sets\n",
        "X_train, X_test, y_train, y_test = train_test_split(X, y, test_size=0.2, random_state=42)\n",
        "\n",
        "# Train Logistic Regression with One-vs-Rest strategy\n",
        "model = LogisticRegression(multi_class='ovr', solver='liblinear', max_iter=1000)\n",
        "model.fit(X_train, y_train)\n",
        "\n",
        "# Predict and evaluate\n",
        "y_pred = model.predict(X_test)\n",
        "accuracy = accuracy_score(y_test, y_pred)\n",
        "\n",
        "print(f\"Multiclass Logistic Regression (OvR) Accuracy: {accuracy:.4f}\")"
      ],
      "metadata": {
        "colab": {
          "base_uri": "https://localhost:8080/"
        },
        "id": "-vAEcFALIgYr",
        "outputId": "f06d1321-23f9-4fc5-c692-2ab907f0659b"
      },
      "execution_count": 5,
      "outputs": [
        {
          "output_type": "stream",
          "name": "stdout",
          "text": [
            "Multiclass Logistic Regression (OvR) Accuracy: 1.0000\n"
          ]
        },
        {
          "output_type": "stream",
          "name": "stderr",
          "text": [
            "/usr/local/lib/python3.11/dist-packages/sklearn/linear_model/_logistic.py:1256: FutureWarning: 'multi_class' was deprecated in version 1.5 and will be removed in 1.7. Use OneVsRestClassifier(LogisticRegression(..)) instead. Leave it to its default value to avoid this warning.\n",
            "  warnings.warn(\n"
          ]
        }
      ]
    },
    {
      "cell_type": "code",
      "source": [
        "# Q. 6 :- Write a Python program to apply GridSearchCV to tune the hyperparameters (C and penalty) of Logistic Regression. Print the best parameters and accuracy.\n",
        "# Ans :-\n",
        "\n",
        "import pandas as pd\n",
        "from sklearn.datasets import load_breast_cancer\n",
        "from sklearn.model_selection import train_test_split, GridSearchCV\n",
        "from sklearn.linear_model import LogisticRegression\n",
        "from sklearn.metrics import accuracy_score\n",
        "\n",
        "# Load dataset\n",
        "data = load_breast_cancer()\n",
        "X = pd.DataFrame(data.data, columns=data.feature_names)\n",
        "y = pd.Series(data.target)\n",
        "\n",
        "# Split into train and test sets\n",
        "X_train, X_test, y_train, y_test = train_test_split(X, y, test_size=0.2, random_state=42)\n",
        "\n",
        "# Define the model\n",
        "model = LogisticRegression(solver='liblinear', max_iter=1000)\n",
        "\n",
        "# Define hyperparameter grid\n",
        "param_grid = {\n",
        "    'C': [0.01, 0.1, 1, 10, 100],\n",
        "    'penalty': ['l1', 'l2']\n",
        "}\n",
        "\n",
        "# Set up GridSearchCV\n",
        "grid = GridSearchCV(model, param_grid, cv=5, scoring='accuracy')\n",
        "grid.fit(X_train, y_train)\n",
        "\n",
        "# Evaluate on test set\n",
        "best_model = grid.best_estimator_\n",
        "y_pred = best_model.predict(X_test)\n",
        "accuracy = accuracy_score(y_test, y_pred)\n",
        "\n",
        "# Output results\n",
        "print(f\"Best Parameters: {grid.best_params_}\")\n",
        "print(f\"Test Set Accuracy: {accuracy:.4f}\")"
      ],
      "metadata": {
        "colab": {
          "base_uri": "https://localhost:8080/"
        },
        "id": "10weeZSCIw7f",
        "outputId": "eb2b348e-47c2-49e6-b3e0-025b113d560b"
      },
      "execution_count": 6,
      "outputs": [
        {
          "output_type": "stream",
          "name": "stdout",
          "text": [
            "Best Parameters: {'C': 100, 'penalty': 'l1'}\n",
            "Test Set Accuracy: 0.9825\n"
          ]
        }
      ]
    },
    {
      "cell_type": "code",
      "source": [
        "# Q. 7 :- Write a Python program to evaluate Logistic Regression using Stratified K-Fold Cross-Validation. Print the average accuracy.\n",
        "# Ans :-\n",
        "\n",
        "import pandas as pd\n",
        "from sklearn.datasets import load_breast_cancer\n",
        "from sklearn.linear_model import LogisticRegression\n",
        "from sklearn.model_selection import StratifiedKFold, cross_val_score\n",
        "\n",
        "# Load dataset\n",
        "data = load_breast_cancer()\n",
        "X = pd.DataFrame(data.data, columns=data.feature_names)\n",
        "y = pd.Series(data.target)\n",
        "\n",
        "# Define the model\n",
        "model = LogisticRegression(max_iter=10000, solver='liblinear')\n",
        "\n",
        "# Set up Stratified K-Fold Cross-Validation\n",
        "skf = StratifiedKFold(n_splits=5, shuffle=True, random_state=42)\n",
        "\n",
        "# Evaluate model using cross-validation\n",
        "scores = cross_val_score(model, X, y, cv=skf, scoring='accuracy')\n",
        "\n",
        "# Print results\n",
        "print(f\"Cross-Validation Accuracies: {scores}\")\n",
        "print(f\"Average Accuracy: {scores.mean():.4f}\")\n"
      ],
      "metadata": {
        "colab": {
          "base_uri": "https://localhost:8080/"
        },
        "id": "T-tZtXcrJETg",
        "outputId": "2a5a9c45-a57a-4157-9abf-d3fd44e9196c"
      },
      "execution_count": 7,
      "outputs": [
        {
          "output_type": "stream",
          "name": "stdout",
          "text": [
            "Cross-Validation Accuracies: [0.94736842 0.92105263 0.95614035 0.96491228 0.96460177]\n",
            "Average Accuracy: 0.9508\n"
          ]
        }
      ]
    },
    {
      "cell_type": "code",
      "source": [
        "# Q. 8 :- Write a Python program to load a dataset from a CSV file, apply Logistic Regression, and evaluate its accuracy.\n",
        "#Ans :-\n",
        "\n",
        "import pandas as pd\n",
        "from sklearn.model_selection import train_test_split\n",
        "from sklearn.linear_model import LogisticRegression\n",
        "from sklearn.metrics import accuracy_score\n",
        "\n",
        "# Load dataset from CSV\n",
        "# Replace 'your_dataset.csv' with your actual file path\n",
        "data = pd.read_csv('your_dataset.csv')\n",
        "\n",
        "# Separate features and target\n",
        "# Replace 'target_column' with the name of your target column\n",
        "X = data.drop('target_column', axis=1)\n",
        "y = data['target_column']\n",
        "\n",
        "# Split into training and testing sets\n",
        "X_train, X_test, y_train, y_test = train_test_split(X, y, test_size=0.2, random_state=42)\n",
        "\n",
        "# Train logistic regression model\n",
        "model = LogisticRegression(max_iter=1000)\n",
        "model.fit(X_train, y_train)\n",
        "\n",
        "# Predict and evaluate\n",
        "y_pred = model.predict(X_test)\n",
        "accuracy = accuracy_score(y_test, y_pred)\n",
        "\n",
        "print(f\"Logistic Regression Accuracy: {accuracy:.4f}\")"
      ],
      "metadata": {
        "colab": {
          "base_uri": "https://localhost:8080/",
          "height": 356
        },
        "id": "-Oyg-MQyJVun",
        "outputId": "013634b1-cb93-49d0-f6f9-1ebfdb927410"
      },
      "execution_count": 8,
      "outputs": [
        {
          "output_type": "error",
          "ename": "FileNotFoundError",
          "evalue": "[Errno 2] No such file or directory: 'your_dataset.csv'",
          "traceback": [
            "\u001b[0;31m---------------------------------------------------------------------------\u001b[0m",
            "\u001b[0;31mFileNotFoundError\u001b[0m                         Traceback (most recent call last)",
            "\u001b[0;32m/tmp/ipython-input-8-3570069060.py\u001b[0m in \u001b[0;36m<cell line: 0>\u001b[0;34m()\u001b[0m\n\u001b[1;32m      9\u001b[0m \u001b[0;31m# Load dataset from CSV\u001b[0m\u001b[0;34m\u001b[0m\u001b[0;34m\u001b[0m\u001b[0m\n\u001b[1;32m     10\u001b[0m \u001b[0;31m# Replace 'your_dataset.csv' with your actual file path\u001b[0m\u001b[0;34m\u001b[0m\u001b[0;34m\u001b[0m\u001b[0m\n\u001b[0;32m---> 11\u001b[0;31m \u001b[0mdata\u001b[0m \u001b[0;34m=\u001b[0m \u001b[0mpd\u001b[0m\u001b[0;34m.\u001b[0m\u001b[0mread_csv\u001b[0m\u001b[0;34m(\u001b[0m\u001b[0;34m'your_dataset.csv'\u001b[0m\u001b[0;34m)\u001b[0m\u001b[0;34m\u001b[0m\u001b[0;34m\u001b[0m\u001b[0m\n\u001b[0m\u001b[1;32m     12\u001b[0m \u001b[0;34m\u001b[0m\u001b[0m\n\u001b[1;32m     13\u001b[0m \u001b[0;31m# Separate features and target\u001b[0m\u001b[0;34m\u001b[0m\u001b[0;34m\u001b[0m\u001b[0m\n",
            "\u001b[0;32m/usr/local/lib/python3.11/dist-packages/pandas/io/parsers/readers.py\u001b[0m in \u001b[0;36mread_csv\u001b[0;34m(filepath_or_buffer, sep, delimiter, header, names, index_col, usecols, dtype, engine, converters, true_values, false_values, skipinitialspace, skiprows, skipfooter, nrows, na_values, keep_default_na, na_filter, verbose, skip_blank_lines, parse_dates, infer_datetime_format, keep_date_col, date_parser, date_format, dayfirst, cache_dates, iterator, chunksize, compression, thousands, decimal, lineterminator, quotechar, quoting, doublequote, escapechar, comment, encoding, encoding_errors, dialect, on_bad_lines, delim_whitespace, low_memory, memory_map, float_precision, storage_options, dtype_backend)\u001b[0m\n\u001b[1;32m   1024\u001b[0m     \u001b[0mkwds\u001b[0m\u001b[0;34m.\u001b[0m\u001b[0mupdate\u001b[0m\u001b[0;34m(\u001b[0m\u001b[0mkwds_defaults\u001b[0m\u001b[0;34m)\u001b[0m\u001b[0;34m\u001b[0m\u001b[0;34m\u001b[0m\u001b[0m\n\u001b[1;32m   1025\u001b[0m \u001b[0;34m\u001b[0m\u001b[0m\n\u001b[0;32m-> 1026\u001b[0;31m     \u001b[0;32mreturn\u001b[0m \u001b[0m_read\u001b[0m\u001b[0;34m(\u001b[0m\u001b[0mfilepath_or_buffer\u001b[0m\u001b[0;34m,\u001b[0m \u001b[0mkwds\u001b[0m\u001b[0;34m)\u001b[0m\u001b[0;34m\u001b[0m\u001b[0;34m\u001b[0m\u001b[0m\n\u001b[0m\u001b[1;32m   1027\u001b[0m \u001b[0;34m\u001b[0m\u001b[0m\n\u001b[1;32m   1028\u001b[0m \u001b[0;34m\u001b[0m\u001b[0m\n",
            "\u001b[0;32m/usr/local/lib/python3.11/dist-packages/pandas/io/parsers/readers.py\u001b[0m in \u001b[0;36m_read\u001b[0;34m(filepath_or_buffer, kwds)\u001b[0m\n\u001b[1;32m    618\u001b[0m \u001b[0;34m\u001b[0m\u001b[0m\n\u001b[1;32m    619\u001b[0m     \u001b[0;31m# Create the parser.\u001b[0m\u001b[0;34m\u001b[0m\u001b[0;34m\u001b[0m\u001b[0m\n\u001b[0;32m--> 620\u001b[0;31m     \u001b[0mparser\u001b[0m \u001b[0;34m=\u001b[0m \u001b[0mTextFileReader\u001b[0m\u001b[0;34m(\u001b[0m\u001b[0mfilepath_or_buffer\u001b[0m\u001b[0;34m,\u001b[0m \u001b[0;34m**\u001b[0m\u001b[0mkwds\u001b[0m\u001b[0;34m)\u001b[0m\u001b[0;34m\u001b[0m\u001b[0;34m\u001b[0m\u001b[0m\n\u001b[0m\u001b[1;32m    621\u001b[0m \u001b[0;34m\u001b[0m\u001b[0m\n\u001b[1;32m    622\u001b[0m     \u001b[0;32mif\u001b[0m \u001b[0mchunksize\u001b[0m \u001b[0;32mor\u001b[0m \u001b[0miterator\u001b[0m\u001b[0;34m:\u001b[0m\u001b[0;34m\u001b[0m\u001b[0;34m\u001b[0m\u001b[0m\n",
            "\u001b[0;32m/usr/local/lib/python3.11/dist-packages/pandas/io/parsers/readers.py\u001b[0m in \u001b[0;36m__init__\u001b[0;34m(self, f, engine, **kwds)\u001b[0m\n\u001b[1;32m   1618\u001b[0m \u001b[0;34m\u001b[0m\u001b[0m\n\u001b[1;32m   1619\u001b[0m         \u001b[0mself\u001b[0m\u001b[0;34m.\u001b[0m\u001b[0mhandles\u001b[0m\u001b[0;34m:\u001b[0m \u001b[0mIOHandles\u001b[0m \u001b[0;34m|\u001b[0m \u001b[0;32mNone\u001b[0m \u001b[0;34m=\u001b[0m \u001b[0;32mNone\u001b[0m\u001b[0;34m\u001b[0m\u001b[0;34m\u001b[0m\u001b[0m\n\u001b[0;32m-> 1620\u001b[0;31m         \u001b[0mself\u001b[0m\u001b[0;34m.\u001b[0m\u001b[0m_engine\u001b[0m \u001b[0;34m=\u001b[0m \u001b[0mself\u001b[0m\u001b[0;34m.\u001b[0m\u001b[0m_make_engine\u001b[0m\u001b[0;34m(\u001b[0m\u001b[0mf\u001b[0m\u001b[0;34m,\u001b[0m \u001b[0mself\u001b[0m\u001b[0;34m.\u001b[0m\u001b[0mengine\u001b[0m\u001b[0;34m)\u001b[0m\u001b[0;34m\u001b[0m\u001b[0;34m\u001b[0m\u001b[0m\n\u001b[0m\u001b[1;32m   1621\u001b[0m \u001b[0;34m\u001b[0m\u001b[0m\n\u001b[1;32m   1622\u001b[0m     \u001b[0;32mdef\u001b[0m \u001b[0mclose\u001b[0m\u001b[0;34m(\u001b[0m\u001b[0mself\u001b[0m\u001b[0;34m)\u001b[0m \u001b[0;34m->\u001b[0m \u001b[0;32mNone\u001b[0m\u001b[0;34m:\u001b[0m\u001b[0;34m\u001b[0m\u001b[0;34m\u001b[0m\u001b[0m\n",
            "\u001b[0;32m/usr/local/lib/python3.11/dist-packages/pandas/io/parsers/readers.py\u001b[0m in \u001b[0;36m_make_engine\u001b[0;34m(self, f, engine)\u001b[0m\n\u001b[1;32m   1878\u001b[0m                 \u001b[0;32mif\u001b[0m \u001b[0;34m\"b\"\u001b[0m \u001b[0;32mnot\u001b[0m \u001b[0;32min\u001b[0m \u001b[0mmode\u001b[0m\u001b[0;34m:\u001b[0m\u001b[0;34m\u001b[0m\u001b[0;34m\u001b[0m\u001b[0m\n\u001b[1;32m   1879\u001b[0m                     \u001b[0mmode\u001b[0m \u001b[0;34m+=\u001b[0m \u001b[0;34m\"b\"\u001b[0m\u001b[0;34m\u001b[0m\u001b[0;34m\u001b[0m\u001b[0m\n\u001b[0;32m-> 1880\u001b[0;31m             self.handles = get_handle(\n\u001b[0m\u001b[1;32m   1881\u001b[0m                 \u001b[0mf\u001b[0m\u001b[0;34m,\u001b[0m\u001b[0;34m\u001b[0m\u001b[0;34m\u001b[0m\u001b[0m\n\u001b[1;32m   1882\u001b[0m                 \u001b[0mmode\u001b[0m\u001b[0;34m,\u001b[0m\u001b[0;34m\u001b[0m\u001b[0;34m\u001b[0m\u001b[0m\n",
            "\u001b[0;32m/usr/local/lib/python3.11/dist-packages/pandas/io/common.py\u001b[0m in \u001b[0;36mget_handle\u001b[0;34m(path_or_buf, mode, encoding, compression, memory_map, is_text, errors, storage_options)\u001b[0m\n\u001b[1;32m    871\u001b[0m         \u001b[0;32mif\u001b[0m \u001b[0mioargs\u001b[0m\u001b[0;34m.\u001b[0m\u001b[0mencoding\u001b[0m \u001b[0;32mand\u001b[0m \u001b[0;34m\"b\"\u001b[0m \u001b[0;32mnot\u001b[0m \u001b[0;32min\u001b[0m \u001b[0mioargs\u001b[0m\u001b[0;34m.\u001b[0m\u001b[0mmode\u001b[0m\u001b[0;34m:\u001b[0m\u001b[0;34m\u001b[0m\u001b[0;34m\u001b[0m\u001b[0m\n\u001b[1;32m    872\u001b[0m             \u001b[0;31m# Encoding\u001b[0m\u001b[0;34m\u001b[0m\u001b[0;34m\u001b[0m\u001b[0m\n\u001b[0;32m--> 873\u001b[0;31m             handle = open(\n\u001b[0m\u001b[1;32m    874\u001b[0m                 \u001b[0mhandle\u001b[0m\u001b[0;34m,\u001b[0m\u001b[0;34m\u001b[0m\u001b[0;34m\u001b[0m\u001b[0m\n\u001b[1;32m    875\u001b[0m                 \u001b[0mioargs\u001b[0m\u001b[0;34m.\u001b[0m\u001b[0mmode\u001b[0m\u001b[0;34m,\u001b[0m\u001b[0;34m\u001b[0m\u001b[0;34m\u001b[0m\u001b[0m\n",
            "\u001b[0;31mFileNotFoundError\u001b[0m: [Errno 2] No such file or directory: 'your_dataset.csv'"
          ]
        }
      ]
    },
    {
      "cell_type": "code",
      "source": [
        "# 9 :- Write a Python program to apply RandomizedSearchCV for tuning hyperparameters (C, penalty, solver) in Logistic Regression. Print the best parameters and accuracy.\n",
        "# Ans :-\n",
        "import pandas as pd\n",
        "from sklearn.datasets import load_breast_cancer\n",
        "from sklearn.model_selection import train_test_split, RandomizedSearchCV\n",
        "from sklearn.linear_model import LogisticRegression\n",
        "from sklearn.metrics import accuracy_score\n",
        "from scipy.stats import loguniform\n",
        "\n",
        "# Load dataset\n",
        "data = load_breast_cancer()\n",
        "X = pd.DataFrame(data.data, columns=data.feature_names)\n",
        "y = pd.Series(data.target)\n",
        "\n",
        "# Split into train and test sets\n",
        "X_train, X_test, y_train, y_test = train_test_split(X, y, test_size=0.2, random_state=42)\n",
        "\n",
        "# Define the model\n",
        "model = LogisticRegression(max_iter=10000)\n",
        "\n",
        "# Define hyperparameter distributions\n",
        "param_dist = {\n",
        "    'C': loguniform(0.001, 100),  # Continuous range for C\n",
        "    'penalty': ['l1', 'l2'],\n",
        "    'solver': ['liblinear', 'saga']  # These solvers support both L1 and L2\n",
        "}\n",
        "\n",
        "# Set up RandomizedSearchCV\n",
        "random_search = RandomizedSearchCV(\n",
        "    model,\n",
        "    param_distributions=param_dist,\n",
        "    n_iter=20,\n",
        "    cv=5,\n",
        "    scoring='accuracy',\n",
        "    random_state=42\n",
        ")\n",
        "\n",
        "# Fit the model\n",
        "random_search.fit(X_train, y_train)\n",
        "\n",
        "# Evaluate on test set\n",
        "best_model = random_search.best_estimator_\n",
        "y_pred = best_model.predict(X_test)\n",
        "accuracy = accuracy_score(y_test, y_pred)\n",
        "\n",
        "# Output results\n",
        "print(f\"Best Parameters: {random_search.best_params_}\")\n",
        "print(f\"Test Set Accuracy: {accuracy:.4f}\")\n"
      ],
      "metadata": {
        "colab": {
          "base_uri": "https://localhost:8080/"
        },
        "id": "JSRu9zTpJsit",
        "outputId": "506a738c-e1c9-47a6-ecdb-a2b46fc45d54"
      },
      "execution_count": 9,
      "outputs": [
        {
          "output_type": "stream",
          "name": "stdout",
          "text": [
            "Best Parameters: {'C': np.float64(4.5705630998014515), 'penalty': 'l1', 'solver': 'liblinear'}\n",
            "Test Set Accuracy: 0.9649\n"
          ]
        }
      ]
    },
    {
      "cell_type": "code",
      "source": [
        "# Q. 10 :- Write a Python program to implement One-vs-One (OvO) Multiclass Logistic Regression and print accuracy.\n",
        "# Ans :-\n",
        "import pandas as pd\n",
        "from sklearn.datasets import load_iris\n",
        "from sklearn.model_selection import train_test_split\n",
        "from sklearn.linear_model import LogisticRegression\n",
        "from sklearn.multiclass import OneVsOneClassifier\n",
        "from sklearn.metrics import accuracy_score\n",
        "\n",
        "# Load a multiclass dataset (Iris)\n",
        "data = load_iris()\n",
        "X = pd.DataFrame(data.data, columns=data.feature_names)\n",
        "y = pd.Series(data.target)\n",
        "\n",
        "# Split into training and testing sets\n",
        "X_train, X_test, y_train, y_test = train_test_split(X, y, test_size=0.2, random_state=42)\n",
        "\n",
        "# Wrap Logistic Regression with One-vs-One strategy\n",
        "base_model = LogisticRegression(solver='liblinear', max_iter=1000)\n",
        "ovo_model = OneVsOneClassifier(base_model)\n",
        "ovo_model.fit(X_train, y_train)\n",
        "\n",
        "# Predict and evaluate\n",
        "y_pred = ovo_model.predict(X_test)\n",
        "accuracy = accuracy_score(y_test, y_pred)\n",
        "\n",
        "print(f\"One-vs-One Logistic Regression Accuracy: {accuracy:.4f}\")"
      ],
      "metadata": {
        "colab": {
          "base_uri": "https://localhost:8080/"
        },
        "id": "UAgAcA58KC2d",
        "outputId": "098b69a5-5ce3-4035-b2bd-92b53bbc1b4a"
      },
      "execution_count": 10,
      "outputs": [
        {
          "output_type": "stream",
          "name": "stdout",
          "text": [
            "One-vs-One Logistic Regression Accuracy: 1.0000\n"
          ]
        }
      ]
    },
    {
      "cell_type": "code",
      "source": [
        "# Q. 11 :- Write a Python program to train a Logistic Regression model and visualize the confusion matrix for binary classification.\n",
        "# Ans :-\n",
        "import pandas as pd\n",
        "import seaborn as sns\n",
        "import matplotlib.pyplot as plt\n",
        "from sklearn.datasets import load_breast_cancer\n",
        "from sklearn.linear_model import LogisticRegression\n",
        "from sklearn.model_selection import train_test_split\n",
        "from sklearn.metrics import confusion_matrix, accuracy_score\n",
        "\n",
        "# Load binary classification dataset\n",
        "data = load_breast_cancer()\n",
        "X = pd.DataFrame(data.data, columns=data.feature_names)\n",
        "y = pd.Series(data.target)\n",
        "\n",
        "# Split into training and testing sets\n",
        "X_train, X_test, y_train, y_test = train_test_split(X, y, test_size=0.2, random_state=42)\n",
        "\n",
        "# Train Logistic Regression model\n",
        "model = LogisticRegression(max_iter=10000)\n",
        "model.fit(X_train, y_train)\n",
        "\n",
        "# Predict on test set\n",
        "y_pred = model.predict(X_test)\n",
        "\n",
        "# Compute confusion matrix\n",
        "cm = confusion_matrix(y_test, y_pred)\n",
        "\n",
        "# Visualize confusion matrix\n",
        "plt.figure(figsize=(6, 4))\n",
        "sns.heatmap(cm, annot=True, fmt='d', cmap='Blues',\n",
        "            xticklabels=data.target_names,\n",
        "            yticklabels=data.target_names)\n",
        "plt.xlabel('Predicted')\n",
        "plt.ylabel('Actual')\n",
        "plt.title('Confusion Matrix')\n",
        "plt.tight_layout()\n",
        "plt.show()\n",
        "\n",
        "# Print accuracy\n",
        "accuracy = accuracy_score(y_test, y_pred)\n",
        "print(f\"Model Accuracy: {accuracy:.4f}\")\n"
      ],
      "metadata": {
        "colab": {
          "base_uri": "https://localhost:8080/",
          "height": 424
        },
        "id": "RoI8XfinLbvi",
        "outputId": "64d2eca9-5f43-4c07-ddfd-f04ee681fd7a"
      },
      "execution_count": 11,
      "outputs": [
        {
          "output_type": "display_data",
          "data": {
            "text/plain": [
              "<Figure size 600x400 with 2 Axes>"
            ],
            "image/png": "[encoded data removed]"
          },
          "metadata": {}
        },
        {
          "output_type": "stream",
          "name": "stdout",
          "text": [
            "Model Accuracy: 0.9561\n"
          ]
        }
      ]
    },
    {
      "cell_type": "code",
      "source": [
        "# Q. 12 :- Write a Python program to train a Logistic Regression model and evaluate its performance using Precision,Recall, and F1-Score.\n",
        "# Ans :-\n",
        "\n",
        "import pandas as pd\n",
        "from sklearn.datasets import load_breast_cancer\n",
        "from sklearn.linear_model import LogisticRegression\n",
        "from sklearn.model_selection import train_test_split\n",
        "from sklearn.metrics import precision_score, recall_score, f1_score, accuracy_score\n",
        "\n",
        "# Load dataset\n",
        "data = load_breast_cancer()\n",
        "X = pd.DataFrame(data.data, columns=data.feature_names)\n",
        "y = pd.Series(data.target)\n",
        "\n",
        "# Split into training and testing sets\n",
        "X_train, X_test, y_train, y_test = train_test_split(X, y, test_size=0.2, random_state=42)\n",
        "\n",
        "# Train Logistic Regression model\n",
        "model = LogisticRegression(max_iter=10000)\n",
        "model.fit(X_train, y_train)\n",
        "\n",
        "# Predict on test set\n",
        "y_pred = model.predict(X_test)\n",
        "\n",
        "# Evaluate performance\n",
        "accuracy = accuracy_score(y_test, y_pred)\n",
        "precision = precision_score(y_test, y_pred)\n",
        "recall = recall_score(y_test, y_pred)\n",
        "f1 = f1_score(y_test, y_pred)\n",
        "\n",
        "# Print results\n",
        "print(f\"Accuracy:  {accuracy:.4f}\")\n",
        "print(f\"Precision: {precision:.4f}\")\n",
        "print(f\"Recall:    {recall:.4f}\")\n",
        "print(f\"F1 Score:  {f1:.4f}\")"
      ],
      "metadata": {
        "colab": {
          "base_uri": "https://localhost:8080/"
        },
        "id": "-HkfqrwtL5WW",
        "outputId": "a150c7b3-cd11-4f2f-ed76-35be095e7b37"
      },
      "execution_count": 12,
      "outputs": [
        {
          "output_type": "stream",
          "name": "stdout",
          "text": [
            "Accuracy:  0.9561\n",
            "Precision: 0.9459\n",
            "Recall:    0.9859\n",
            "F1 Score:  0.9655\n"
          ]
        }
      ]
    },
    {
      "cell_type": "code",
      "source": [
        "# Q. 13 :- Write a Python program to train a Logistic Regression model on imbalanced data and apply class weights to improve model performance.\n",
        "# Ans :-\n",
        "\n",
        "import pandas as pd\n",
        "from sklearn.datasets import make_classification\n",
        "from sklearn.linear_model import LogisticRegression\n",
        "from sklearn.model_selection import train_test_split\n",
        "from sklearn.metrics import classification_report, confusion_matrix\n",
        "\n",
        "# Generate an imbalanced binary classification dataset\n",
        "X, y = make_classification(n_samples=1000, n_features=10, n_informative=5,\n",
        "                           n_redundant=2, n_clusters_per_class=1,\n",
        "                           weights=[0.9, 0.1], flip_y=0, random_state=42)\n",
        "\n",
        "# Split into training and testing sets\n",
        "X_train, X_test, y_train, y_test = train_test_split(X, y, test_size=0.2, random_state=42)\n",
        "\n",
        "# Train Logistic Regression with class_weight='balanced'\n",
        "model = LogisticRegression(class_weight='balanced', max_iter=1000)\n",
        "model.fit(X_train, y_train)\n",
        "\n",
        "# Predict and evaluate\n",
        "y_pred = model.predict(X_test)\n",
        "\n",
        "print(\"Confusion Matrix:\")\n",
        "print(confusion_matrix(y_test, y_pred))\n",
        "print(\"\\nClassification Report:\")\n",
        "print(classification_report(y_test, y_pred))"
      ],
      "metadata": {
        "colab": {
          "base_uri": "https://localhost:8080/"
        },
        "id": "ucjJ-YLhMUHc",
        "outputId": "f2ccb3d1-e22f-4f34-e7eb-7bc371d7d1ff"
      },
      "execution_count": 13,
      "outputs": [
        {
          "output_type": "stream",
          "name": "stdout",
          "text": [
            "Confusion Matrix:\n",
            "[[175   2]\n",
            " [  0  23]]\n",
            "\n",
            "Classification Report:\n",
            "              precision    recall  f1-score   support\n",
            "\n",
            "           0       1.00      0.99      0.99       177\n",
            "           1       0.92      1.00      0.96        23\n",
            "\n",
            "    accuracy                           0.99       200\n",
            "   macro avg       0.96      0.99      0.98       200\n",
            "weighted avg       0.99      0.99      0.99       200\n",
            "\n"
          ]
        }
      ]
    },
    {
      "cell_type": "code",
      "source": [
        "# Q. 14 :- Write a Python program to train Logistic Regression on the Titanic dataset, handle missing values, and evaluate performance.\n",
        "# Ans :-\n",
        "\n",
        "import pandas as pd\n",
        "from sklearn.model_selection import train_test_split\n",
        "from sklearn.linear_model import LogisticRegression\n",
        "from sklearn.metrics import classification_report, confusion_matrix\n",
        "from sklearn.preprocessing import LabelEncoder\n",
        "\n",
        "# Load Titanic dataset (from CSV)\n",
        "df = pd.read_csv('titanic.csv')  # Replace with your actual file path\n",
        "\n",
        "# Basic preprocessing\n",
        "# Drop columns that won't help the model\n",
        "df.drop(['PassengerId', 'Name', 'Ticket', 'Cabin'], axis=1, inplace=True)\n",
        "\n",
        "# Handle missing values\n",
        "df['Age'].fillna(df['Age'].median(), inplace=True)\n",
        "df['Embarked'].fillna(df['Embarked'].mode()[0], inplace=True)\n",
        "\n",
        "# Encode categorical variables\n",
        "le = LabelEncoder()\n",
        "df['Sex'] = le.fit_transform(df['Sex'])         # male=1, female=0\n",
        "df['Embarked'] = le.fit_transform(df['Embarked'])  # C=0, Q=1, S=2\n",
        "\n",
        "# Define features and target\n",
        "X = df.drop('Survived', axis=1)\n",
        "y = df['Survived']\n",
        "\n",
        "# Split into train and test sets\n",
        "X_train, X_test, y_train, y_test = train_test_split(X, y, test_size=0.2, random_state=42)\n",
        "\n",
        "# Train Logistic Regression model\n",
        "model = LogisticRegression(max_iter=1000)\n",
        "model.fit(X_train, y_train)\n",
        "\n",
        "# Predict and evaluate\n",
        "y_pred = model.predict(X_test)\n",
        "\n",
        "print(\"Confusion Matrix:\")\n",
        "print(confusion_matrix(y_test, y_pred))\n",
        "print(\"\\nClassification Report:\")\n",
        "print(classification_report(y_test, y_pred))"
      ],
      "metadata": {
        "colab": {
          "base_uri": "https://localhost:8080/",
          "height": 356
        },
        "id": "3qDev32IMsJr",
        "outputId": "aa6341d7-d510-475c-da6f-b7b93e9682fe"
      },
      "execution_count": 14,
      "outputs": [
        {
          "output_type": "error",
          "ename": "FileNotFoundError",
          "evalue": "[Errno 2] No such file or directory: 'titanic.csv'",
          "traceback": [
            "\u001b[0;31m---------------------------------------------------------------------------\u001b[0m",
            "\u001b[0;31mFileNotFoundError\u001b[0m                         Traceback (most recent call last)",
            "\u001b[0;32m/tmp/ipython-input-14-2479152969.py\u001b[0m in \u001b[0;36m<cell line: 0>\u001b[0;34m()\u001b[0m\n\u001b[1;32m      9\u001b[0m \u001b[0;34m\u001b[0m\u001b[0m\n\u001b[1;32m     10\u001b[0m \u001b[0;31m# Load Titanic dataset (from CSV)\u001b[0m\u001b[0;34m\u001b[0m\u001b[0;34m\u001b[0m\u001b[0m\n\u001b[0;32m---> 11\u001b[0;31m \u001b[0mdf\u001b[0m \u001b[0;34m=\u001b[0m \u001b[0mpd\u001b[0m\u001b[0;34m.\u001b[0m\u001b[0mread_csv\u001b[0m\u001b[0;34m(\u001b[0m\u001b[0;34m'titanic.csv'\u001b[0m\u001b[0;34m)\u001b[0m  \u001b[0;31m# Replace with your actual file path\u001b[0m\u001b[0;34m\u001b[0m\u001b[0;34m\u001b[0m\u001b[0m\n\u001b[0m\u001b[1;32m     12\u001b[0m \u001b[0;34m\u001b[0m\u001b[0m\n\u001b[1;32m     13\u001b[0m \u001b[0;31m# Basic preprocessing\u001b[0m\u001b[0;34m\u001b[0m\u001b[0;34m\u001b[0m\u001b[0m\n",
            "\u001b[0;32m/usr/local/lib/python3.11/dist-packages/pandas/io/parsers/readers.py\u001b[0m in \u001b[0;36mread_csv\u001b[0;34m(filepath_or_buffer, sep, delimiter, header, names, index_col, usecols, dtype, engine, converters, true_values, false_values, skipinitialspace, skiprows, skipfooter, nrows, na_values, keep_default_na, na_filter, verbose, skip_blank_lines, parse_dates, infer_datetime_format, keep_date_col, date_parser, date_format, dayfirst, cache_dates, iterator, chunksize, compression, thousands, decimal, lineterminator, quotechar, quoting, doublequote, escapechar, comment, encoding, encoding_errors, dialect, on_bad_lines, delim_whitespace, low_memory, memory_map, float_precision, storage_options, dtype_backend)\u001b[0m\n\u001b[1;32m   1024\u001b[0m     \u001b[0mkwds\u001b[0m\u001b[0;34m.\u001b[0m\u001b[0mupdate\u001b[0m\u001b[0;34m(\u001b[0m\u001b[0mkwds_defaults\u001b[0m\u001b[0;34m)\u001b[0m\u001b[0;34m\u001b[0m\u001b[0;34m\u001b[0m\u001b[0m\n\u001b[1;32m   1025\u001b[0m \u001b[0;34m\u001b[0m\u001b[0m\n\u001b[0;32m-> 1026\u001b[0;31m     \u001b[0;32mreturn\u001b[0m \u001b[0m_read\u001b[0m\u001b[0;34m(\u001b[0m\u001b[0mfilepath_or_buffer\u001b[0m\u001b[0;34m,\u001b[0m \u001b[0mkwds\u001b[0m\u001b[0;34m)\u001b[0m\u001b[0;34m\u001b[0m\u001b[0;34m\u001b[0m\u001b[0m\n\u001b[0m\u001b[1;32m   1027\u001b[0m \u001b[0;34m\u001b[0m\u001b[0m\n\u001b[1;32m   1028\u001b[0m \u001b[0;34m\u001b[0m\u001b[0m\n",
            "\u001b[0;32m/usr/local/lib/python3.11/dist-packages/pandas/io/parsers/readers.py\u001b[0m in \u001b[0;36m_read\u001b[0;34m(filepath_or_buffer, kwds)\u001b[0m\n\u001b[1;32m    618\u001b[0m \u001b[0;34m\u001b[0m\u001b[0m\n\u001b[1;32m    619\u001b[0m     \u001b[0;31m# Create the parser.\u001b[0m\u001b[0;34m\u001b[0m\u001b[0;34m\u001b[0m\u001b[0m\n\u001b[0;32m--> 620\u001b[0;31m     \u001b[0mparser\u001b[0m \u001b[0;34m=\u001b[0m \u001b[0mTextFileReader\u001b[0m\u001b[0;34m(\u001b[0m\u001b[0mfilepath_or_buffer\u001b[0m\u001b[0;34m,\u001b[0m \u001b[0;34m**\u001b[0m\u001b[0mkwds\u001b[0m\u001b[0;34m)\u001b[0m\u001b[0;34m\u001b[0m\u001b[0;34m\u001b[0m\u001b[0m\n\u001b[0m\u001b[1;32m    621\u001b[0m \u001b[0;34m\u001b[0m\u001b[0m\n\u001b[1;32m    622\u001b[0m     \u001b[0;32mif\u001b[0m \u001b[0mchunksize\u001b[0m \u001b[0;32mor\u001b[0m \u001b[0miterator\u001b[0m\u001b[0;34m:\u001b[0m\u001b[0;34m\u001b[0m\u001b[0;34m\u001b[0m\u001b[0m\n",
            "\u001b[0;32m/usr/local/lib/python3.11/dist-packages/pandas/io/parsers/readers.py\u001b[0m in \u001b[0;36m__init__\u001b[0;34m(self, f, engine, **kwds)\u001b[0m\n\u001b[1;32m   1618\u001b[0m \u001b[0;34m\u001b[0m\u001b[0m\n\u001b[1;32m   1619\u001b[0m         \u001b[0mself\u001b[0m\u001b[0;34m.\u001b[0m\u001b[0mhandles\u001b[0m\u001b[0;34m:\u001b[0m \u001b[0mIOHandles\u001b[0m \u001b[0;34m|\u001b[0m \u001b[0;32mNone\u001b[0m \u001b[0;34m=\u001b[0m \u001b[0;32mNone\u001b[0m\u001b[0;34m\u001b[0m\u001b[0;34m\u001b[0m\u001b[0m\n\u001b[0;32m-> 1620\u001b[0;31m         \u001b[0mself\u001b[0m\u001b[0;34m.\u001b[0m\u001b[0m_engine\u001b[0m \u001b[0;34m=\u001b[0m \u001b[0mself\u001b[0m\u001b[0;34m.\u001b[0m\u001b[0m_make_engine\u001b[0m\u001b[0;34m(\u001b[0m\u001b[0mf\u001b[0m\u001b[0;34m,\u001b[0m \u001b[0mself\u001b[0m\u001b[0;34m.\u001b[0m\u001b[0mengine\u001b[0m\u001b[0;34m)\u001b[0m\u001b[0;34m\u001b[0m\u001b[0;34m\u001b[0m\u001b[0m\n\u001b[0m\u001b[1;32m   1621\u001b[0m \u001b[0;34m\u001b[0m\u001b[0m\n\u001b[1;32m   1622\u001b[0m     \u001b[0;32mdef\u001b[0m \u001b[0mclose\u001b[0m\u001b[0;34m(\u001b[0m\u001b[0mself\u001b[0m\u001b[0;34m)\u001b[0m \u001b[0;34m->\u001b[0m \u001b[0;32mNone\u001b[0m\u001b[0;34m:\u001b[0m\u001b[0;34m\u001b[0m\u001b[0;34m\u001b[0m\u001b[0m\n",
            "\u001b[0;32m/usr/local/lib/python3.11/dist-packages/pandas/io/parsers/readers.py\u001b[0m in \u001b[0;36m_make_engine\u001b[0;34m(self, f, engine)\u001b[0m\n\u001b[1;32m   1878\u001b[0m                 \u001b[0;32mif\u001b[0m \u001b[0;34m\"b\"\u001b[0m \u001b[0;32mnot\u001b[0m \u001b[0;32min\u001b[0m \u001b[0mmode\u001b[0m\u001b[0;34m:\u001b[0m\u001b[0;34m\u001b[0m\u001b[0;34m\u001b[0m\u001b[0m\n\u001b[1;32m   1879\u001b[0m                     \u001b[0mmode\u001b[0m \u001b[0;34m+=\u001b[0m \u001b[0;34m\"b\"\u001b[0m\u001b[0;34m\u001b[0m\u001b[0;34m\u001b[0m\u001b[0m\n\u001b[0;32m-> 1880\u001b[0;31m             self.handles = get_handle(\n\u001b[0m\u001b[1;32m   1881\u001b[0m                 \u001b[0mf\u001b[0m\u001b[0;34m,\u001b[0m\u001b[0;34m\u001b[0m\u001b[0;34m\u001b[0m\u001b[0m\n\u001b[1;32m   1882\u001b[0m                 \u001b[0mmode\u001b[0m\u001b[0;34m,\u001b[0m\u001b[0;34m\u001b[0m\u001b[0;34m\u001b[0m\u001b[0m\n",
            "\u001b[0;32m/usr/local/lib/python3.11/dist-packages/pandas/io/common.py\u001b[0m in \u001b[0;36mget_handle\u001b[0;34m(path_or_buf, mode, encoding, compression, memory_map, is_text, errors, storage_options)\u001b[0m\n\u001b[1;32m    871\u001b[0m         \u001b[0;32mif\u001b[0m \u001b[0mioargs\u001b[0m\u001b[0;34m.\u001b[0m\u001b[0mencoding\u001b[0m \u001b[0;32mand\u001b[0m \u001b[0;34m\"b\"\u001b[0m \u001b[0;32mnot\u001b[0m \u001b[0;32min\u001b[0m \u001b[0mioargs\u001b[0m\u001b[0;34m.\u001b[0m\u001b[0mmode\u001b[0m\u001b[0;34m:\u001b[0m\u001b[0;34m\u001b[0m\u001b[0;34m\u001b[0m\u001b[0m\n\u001b[1;32m    872\u001b[0m             \u001b[0;31m# Encoding\u001b[0m\u001b[0;34m\u001b[0m\u001b[0;34m\u001b[0m\u001b[0m\n\u001b[0;32m--> 873\u001b[0;31m             handle = open(\n\u001b[0m\u001b[1;32m    874\u001b[0m                 \u001b[0mhandle\u001b[0m\u001b[0;34m,\u001b[0m\u001b[0;34m\u001b[0m\u001b[0;34m\u001b[0m\u001b[0m\n\u001b[1;32m    875\u001b[0m                 \u001b[0mioargs\u001b[0m\u001b[0;34m.\u001b[0m\u001b[0mmode\u001b[0m\u001b[0;34m,\u001b[0m\u001b[0;34m\u001b[0m\u001b[0;34m\u001b[0m\u001b[0m\n",
            "\u001b[0;31mFileNotFoundError\u001b[0m: [Errno 2] No such file or directory: 'titanic.csv'"
          ]
        }
      ]
    },
    {
      "cell_type": "code",
      "source": [
        "# Q. 15 :-Write a Python program to apply feature scaling (Standardization) before training a Logistic Regression model. Evaluate its accuracy and compare results with and without scaling.\n",
        "# Ans :-\n",
        "\n",
        "import pandas as pd\n",
        "from sklearn.datasets import load_breast_cancer\n",
        "from sklearn.linear_model import LogisticRegression\n",
        "from sklearn.model_selection import train_test_split\n",
        "from sklearn.preprocessing import StandardScaler\n",
        "from sklearn.metrics import accuracy_score\n",
        "\n",
        "# Load dataset\n",
        "data = load_breast_cancer()\n",
        "X = pd.DataFrame(data.data, columns=data.feature_names)\n",
        "y = pd.Series(data.target)\n",
        "\n",
        "# Split into train and test sets\n",
        "X_train, X_test, y_train, y_test = train_test_split(X, y, test_size=0.2, random_state=42)\n",
        "\n",
        "# Logistic Regression without scaling\n",
        "model_no_scaling = LogisticRegression(max_iter=10000)\n",
        "model_no_scaling.fit(X_train, y_train)\n",
        "y_pred_no_scaling = model_no_scaling.predict(X_test)\n",
        "accuracy_no_scaling = accuracy_score(y_test, y_pred_no_scaling)\n",
        "\n",
        "# Apply Standardization\n",
        "scaler = StandardScaler()\n",
        "X_train_scaled = scaler.fit_transform(X_train)\n",
        "X_test_scaled = scaler.transform(X_test)\n",
        "\n",
        "# Logistic Regression with scaling\n",
        "model_scaled = LogisticRegression(max_iter=10000)\n",
        "model_scaled.fit(X_train_scaled, y_train)\n",
        "y_pred_scaled = model_scaled.predict(X_test_scaled)\n",
        "accuracy_scaled = accuracy_score(y_test, y_pred_scaled)\n",
        "\n",
        "# Print results\n",
        "print(f\"Accuracy without scaling: {accuracy_no_scaling:.4f}\")\n",
        "print(f\"Accuracy with scaling:    {accuracy_scaled:.4f}\")\n"
      ],
      "metadata": {
        "colab": {
          "base_uri": "https://localhost:8080/"
        },
        "id": "VXb4jK1QNHD2",
        "outputId": "caeb7a46-a887-432f-9c92-bb79122699ec"
      },
      "execution_count": 15,
      "outputs": [
        {
          "output_type": "stream",
          "name": "stdout",
          "text": [
            "Accuracy without scaling: 0.9561\n",
            "Accuracy with scaling:    0.9737\n"
          ]
        }
      ]
    },
    {
      "cell_type": "code",
      "source": [
        "# Q. 16 :- Write a Python program to train Logistic Regression and evaluate its performance using ROC-AUC score.\n",
        "# Ans :-\n",
        "\n",
        "import pandas as pd\n",
        "from sklearn.datasets import load_breast_cancer\n",
        "from sklearn.linear_model import LogisticRegression\n",
        "from sklearn.model_selection import train_test_split\n",
        "from sklearn.metrics import roc_auc_score, roc_curve\n",
        "import matplotlib.pyplot as plt\n",
        "\n",
        "# Load binary classification dataset\n",
        "data = load_breast_cancer()\n",
        "X = pd.DataFrame(data.data, columns=data.feature_names)\n",
        "y = pd.Series(data.target)\n",
        "\n",
        "# Split into train and test sets\n",
        "X_train, X_test, y_train, y_test = train_test_split(X, y, test_size=0.2, random_state=42)\n",
        "\n",
        "# Train Logistic Regression model\n",
        "model = LogisticRegression(max_iter=10000)\n",
        "model.fit(X_train, y_train)\n",
        "\n",
        "# Predict probabilities\n",
        "y_proba = model.predict_proba(X_test)[:, 1]\n",
        "\n",
        "# Compute ROC-AUC score\n",
        "roc_auc = roc_auc_score(y_test, y_proba)\n",
        "print(f\"ROC-AUC Score: {roc_auc:.4f}\")\n",
        "\n",
        "# Plot ROC curve\n",
        "fpr, tpr, _ = roc_curve(y_test, y_proba)\n",
        "plt.figure(figsize=(6, 4))\n",
        "plt.plot(fpr, tpr, label=f'ROC Curve (AUC = {roc_auc:.2f})')\n",
        "plt.plot([0, 1], [0, 1], linestyle='--', color='gray')\n",
        "plt.xlabel('False Positive Rate')\n",
        "plt.ylabel('True Positive Rate')\n",
        "plt.title('ROC Curve')\n",
        "plt.legend()\n",
        "plt.tight_layout()\n",
        "plt.show()"
      ],
      "metadata": {
        "colab": {
          "base_uri": "https://localhost:8080/",
          "height": 424
        },
        "id": "DuZrGLpWNf_2",
        "outputId": "936864a8-1fa0-4fb6-a36b-ed7906742605"
      },
      "execution_count": 16,
      "outputs": [
        {
          "output_type": "stream",
          "name": "stdout",
          "text": [
            "ROC-AUC Score: 0.9977\n"
          ]
        },
        {
          "output_type": "display_data",
          "data": {
            "text/plain": [
              "<Figure size 600x400 with 1 Axes>"
            ],
            "image/png": "[encoded data removed]"
          },
          "metadata": {}
        }
      ]
    },
    {
      "cell_type": "code",
      "source": [
        "# Q. 17 :- Write a Python program to train Logistic Regression using a custom learning rate (C=0.5) and evaluate accuracy.\n",
        "# Ans :-\n",
        "import pandas as pd\n",
        "from sklearn.datasets import load_breast_cancer\n",
        "from sklearn.linear_model import LogisticRegression\n",
        "from sklearn.model_selection import train_test_split\n",
        "from sklearn.metrics import accuracy_score\n",
        "\n",
        "# Load dataset\n",
        "data = load_breast_cancer()\n",
        "X = pd.DataFrame(data.data, columns=data.feature_names)\n",
        "y = pd.Series(data.target)\n",
        "\n",
        "# Split into training and testing sets\n",
        "X_train, X_test, y_train, y_test = train_test_split(X, y, test_size=0.2, random_state=42)\n",
        "\n",
        "# Train Logistic Regression with custom C (regularization strength)\n",
        "model = LogisticRegression(C=0.5, max_iter=10000)\n",
        "model.fit(X_train, y_train)\n",
        "\n",
        "# Predict and evaluate\n",
        "y_pred = model.predict(X_test)\n",
        "accuracy = accuracy_score(y_test, y_pred)\n",
        "\n",
        "print(f\"Logistic Regression Accuracy with C=0.5: {accuracy:.4f}\")\n"
      ],
      "metadata": {
        "colab": {
          "base_uri": "https://localhost:8080/"
        },
        "id": "9UPEr_bkOD9c",
        "outputId": "7a1ceaac-f335-488e-dd43-cbc8be82281a"
      },
      "execution_count": 17,
      "outputs": [
        {
          "output_type": "stream",
          "name": "stdout",
          "text": [
            "Logistic Regression Accuracy with C=0.5: 0.9649\n"
          ]
        }
      ]
    },
    {
      "cell_type": "code",
      "source": [
        "# Q. 18 :- Write a Python program to train Logistic Regression and identify important features based on model coefficients.\n",
        "# Ans :-\n",
        "\n",
        "import pandas as pd\n",
        "import numpy as np\n",
        "from sklearn.datasets import load_breast_cancer\n",
        "from sklearn.linear_model import LogisticRegression\n",
        "from sklearn.model_selection import train_test_split\n",
        "\n",
        "# Load dataset\n",
        "data = load_breast_cancer()\n",
        "X = pd.DataFrame(data.data, columns=data.feature_names)\n",
        "y = pd.Series(data.target)\n",
        "\n",
        "# Split into training and testing sets\n",
        "X_train, X_test, y_train, y_test = train_test_split(X, y, test_size=0.2, random_state=42)\n",
        "\n",
        "# Train Logistic Regression model\n",
        "model = LogisticRegression(max_iter=10000)\n",
        "model.fit(X_train, y_train)\n",
        "\n",
        "# Extract feature importance from coefficients\n",
        "coefficients = model.coef_[0]\n",
        "feature_importance = pd.DataFrame({\n",
        "    'Feature': X.columns,\n",
        "    'Coefficient': coefficients,\n",
        "    'Importance (abs)': np.abs(coefficients)\n",
        "})\n",
        "\n",
        "# Sort by absolute importance\n",
        "feature_importance = feature_importance.sort_values(by='Importance (abs)', ascending=False)\n",
        "\n",
        "# Display top features\n",
        "print(\"Top Important Features:\")\n",
        "print(feature_importance.head(10))"
      ],
      "metadata": {
        "colab": {
          "base_uri": "https://localhost:8080/"
        },
        "id": "wM_ymcmVOc8D",
        "outputId": "1be12494-8ab7-47d8-f4a7-5e6532d2dc08"
      },
      "execution_count": 18,
      "outputs": [
        {
          "output_type": "stream",
          "name": "stdout",
          "text": [
            "Top Important Features:\n",
            "                 Feature  Coefficient  Importance (abs)\n",
            "26       worst concavity    -1.428595          1.428595\n",
            "11         texture error     1.370567          1.370567\n",
            "0            mean radius     1.027437          1.027437\n",
            "25     worst compactness    -0.772709          0.772709\n",
            "28        worst symmetry    -0.746894          0.746894\n",
            "6         mean concavity    -0.532558          0.532558\n",
            "27  worst concave points    -0.510929          0.510929\n",
            "21         worst texture    -0.508877          0.508877\n",
            "2         mean perimeter    -0.362135          0.362135\n",
            "24      worst smoothness    -0.307731          0.307731\n"
          ]
        }
      ]
    },
    {
      "cell_type": "code",
      "source": [
        "# Q. 19 :- Write a Python program to train Logistic Regression and evaluate its performance using Cohen’s Kappa Score.\n",
        "# Ans :-\n",
        "\n",
        "import pandas as pd\n",
        "from sklearn.datasets import load_breast_cancer\n",
        "from sklearn.linear_model import LogisticRegression\n",
        "from sklearn.model_selection import train_test_split\n",
        "from sklearn.metrics import cohen_kappa_score\n",
        "\n",
        "# Load dataset\n",
        "data = load_breast_cancer()\n",
        "X = pd.DataFrame(data.data, columns=data.feature_names)\n",
        "y = pd.Series(data.target)\n",
        "\n",
        "# Split into train and test sets\n",
        "X_train, X_test, y_train, y_test = train_test_split(X, y, test_size=0.2, random_state=42)\n",
        "\n",
        "# Train Logistic Regression model\n",
        "model = LogisticRegression(max_iter=10000)\n",
        "model.fit(X_train, y_train)\n",
        "\n",
        "# Predict on test set\n",
        "y_pred = model.predict(X_test)\n",
        "\n",
        "# Evaluate using Cohen's Kappa Score\n",
        "kappa = cohen_kappa_score(y_test, y_pred)\n",
        "print(f\"Cohen's Kappa Score: {kappa:.4f}\")"
      ],
      "metadata": {
        "colab": {
          "base_uri": "https://localhost:8080/"
        },
        "id": "mclFa9YeQ8hj",
        "outputId": "5c905c53-4d1a-4e79-ca55-ad2267f4f8b2"
      },
      "execution_count": 19,
      "outputs": [
        {
          "output_type": "stream",
          "name": "stdout",
          "text": [
            "Cohen's Kappa Score: 0.9053\n"
          ]
        }
      ]
    },
    {
      "cell_type": "code",
      "source": [
        "# Q. 20 :- Write a Python program to train Logistic Regression and visualize the Precision-Recall Curve for binary classificatio:\n",
        "# Ans :-\n",
        "\n",
        "import pandas as pd\n",
        "import matplotlib.pyplot as plt\n",
        "from sklearn.datasets import load_breast_cancer\n",
        "from sklearn.linear_model import LogisticRegression\n",
        "from sklearn.model_selection import train_test_split\n",
        "from sklearn.metrics import precision_recall_curve, PrecisionRecallDisplay\n",
        "\n",
        "# Load binary classification dataset\n",
        "data = load_breast_cancer()\n",
        "X = pd.DataFrame(data.data, columns=data.feature_names)\n",
        "y = pd.Series(data.target)\n",
        "\n",
        "# Split into train and test sets\n",
        "X_train, X_test, y_train, y_test = train_test_split(X, y, test_size=0.2, random_state=42)\n",
        "\n",
        "# Train Logistic Regression model\n",
        "model = LogisticRegression(max_iter=10000)\n",
        "model.fit(X_train, y_train)\n",
        "\n",
        "# Predict probabilities for the positive class\n",
        "y_scores = model.predict_proba(X_test)[:, 1]\n",
        "\n",
        "# Compute precision and recall\n",
        "precision, recall, _ = precision_recall_curve(y_test, y_scores)\n",
        "\n",
        "# Plot the Precision-Recall Curve\n",
        "disp = PrecisionRecallDisplay(precision=precision, recall=recall)\n",
        "disp.plot()\n",
        "plt.title(\"Precision-Recall Curve\")\n",
        "plt.tight_layout()\n",
        "plt.show()"
      ],
      "metadata": {
        "colab": {
          "base_uri": "https://localhost:8080/",
          "height": 487
        },
        "id": "30H_rnlBRX62",
        "outputId": "e5b15e5d-25d3-4f77-c2f5-74f37bbba16b"
      },
      "execution_count": 20,
      "outputs": [
        {
          "output_type": "display_data",
          "data": {
            "text/plain": [
              "<Figure size 640x480 with 1 Axes>"
            ],
            "image/png": "[encoded data removed]"
          },
          "metadata": {}
        }
      ]
    },
    {
      "cell_type": "code",
      "source": [
        "# Q. 21 :-  Write a Python program to train Logistic Regression with different solvers (liblinear, saga, lbfgs) and compare their accuracy.\n",
        "# Ans :-\n",
        "\n",
        "import pandas as pd\n",
        "from sklearn.datasets import load_breast_cancer\n",
        "from sklearn.linear_model import LogisticRegression\n",
        "from sklearn.model_selection import train_test_split\n",
        "from sklearn.metrics import accuracy_score\n",
        "\n",
        "# Load dataset\n",
        "data = load_breast_cancer()\n",
        "X = pd.DataFrame(data.data, columns=data.feature_names)\n",
        "y = pd.Series(data.target)\n",
        "\n",
        "# Split into train and test sets\n",
        "X_train, X_test, y_train, y_test = train_test_split(X, y, test_size=0.2, random_state=42)\n",
        "\n",
        "# Define solvers to compare\n",
        "solvers = ['liblinear', 'saga', 'lbfgs']\n",
        "results = {}\n",
        "\n",
        "# Train and evaluate models\n",
        "for solver in solvers:\n",
        "    model = LogisticRegression(solver=solver, max_iter=10000)\n",
        "    model.fit(X_train, y_train)\n",
        "    y_pred = model.predict(X_test)\n",
        "    accuracy = accuracy_score(y_test, y_pred)\n",
        "    results[solver] = accuracy\n",
        "\n",
        "# Print results\n",
        "print(\"Solver Comparison (Accuracy):\")\n",
        "for solver, acc in results.items():\n",
        "    print(f\"{solver}: {acc:.4f}\")"
      ],
      "metadata": {
        "colab": {
          "base_uri": "https://localhost:8080/"
        },
        "id": "_UiYu-XQRpKs",
        "outputId": "39d8f7be-07a5-4631-b2c8-4e99632a14d4"
      },
      "execution_count": 21,
      "outputs": [
        {
          "output_type": "stream",
          "name": "stdout",
          "text": [
            "Solver Comparison (Accuracy):\n",
            "liblinear: 0.9561\n",
            "saga: 0.9737\n",
            "lbfgs: 0.9561\n"
          ]
        }
      ]
    },
    {
      "cell_type": "code",
      "source": [
        "# Q. 22 :- Write a Python program to train Logistic Regression and evaluate its performance using Matthews Correlation Coefficient (MCC).\n",
        "# Ans :-\n",
        "\n",
        "import pandas as pd\n",
        "from sklearn.datasets import load_breast_cancer\n",
        "from sklearn.linear_model import LogisticRegression\n",
        "from sklearn.model_selection import train_test_split\n",
        "from sklearn.metrics import matthews_corrcoef\n",
        "\n",
        "# Load dataset\n",
        "data = load_breast_cancer()\n",
        "X = pd.DataFrame(data.data, columns=data.feature_names)\n",
        "y = pd.Series(data.target)\n",
        "\n",
        "# Split into train and test sets\n",
        "X_train, X_test, y_train, y_test = train_test_split(X, y, test_size=0.2, random_state=42)\n",
        "\n",
        "# Train Logistic Regression model\n",
        "model = LogisticRegression(max_iter=10000)\n",
        "model.fit(X_train, y_train)\n",
        "\n",
        "# Predict on test set\n",
        "y_pred = model.predict(X_test)\n",
        "\n",
        "# Evaluate using Matthews Correlation Coefficient\n",
        "mcc = matthews_corrcoef(y_test, y_pred)\n",
        "print(f\"Matthews Correlation Coefficient (MCC): {mcc:.4f}\")"
      ],
      "metadata": {
        "colab": {
          "base_uri": "https://localhost:8080/"
        },
        "id": "pGigwb80R_4C",
        "outputId": "c46a9752-9b4d-456d-ba1b-4f54493b2acd"
      },
      "execution_count": 22,
      "outputs": [
        {
          "output_type": "stream",
          "name": "stdout",
          "text": [
            "Matthews Correlation Coefficient (MCC): 0.9068\n"
          ]
        }
      ]
    },
    {
      "cell_type": "code",
      "source": [
        "# Q. 23 :- Write a Python program to train Logistic Regression on both raw and standardized data. Compare their accuracy to see the impact of feature scaling.\n",
        "# Ans :-\n",
        "\n",
        "import pandas as pd\n",
        "from sklearn.datasets import load_breast_cancer\n",
        "from sklearn.linear_model import LogisticRegression\n",
        "from sklearn.model_selection import train_test_split\n",
        "from sklearn.preprocessing import StandardScaler\n",
        "from sklearn.metrics import accuracy_score\n",
        "\n",
        "# Load dataset\n",
        "data = load_breast_cancer()\n",
        "X = pd.DataFrame(data.data, columns=data.feature_names)\n",
        "y = pd.Series(data.target)\n",
        "\n",
        "# Split into train and test sets\n",
        "X_train_raw, X_test_raw, y_train, y_test = train_test_split(X, y, test_size=0.2, random_state=42)\n",
        "\n",
        "# Train on raw data\n",
        "model_raw = LogisticRegression(max_iter=10000)\n",
        "model_raw.fit(X_train_raw, y_train)\n",
        "y_pred_raw = model_raw.predict(X_test_raw)\n",
        "accuracy_raw = accuracy_score(y_test, y_pred_raw)\n",
        "\n",
        "# Standardize features\n",
        "scaler = StandardScaler()\n",
        "X_train_scaled = scaler.fit_transform(X_train_raw)\n",
        "X_test_scaled = scaler.transform(X_test_raw)\n",
        "\n",
        "# Train on standardized data\n",
        "model_scaled = LogisticRegression(max_iter=10000)\n",
        "model_scaled.fit(X_train_scaled, y_train)\n",
        "y_pred_scaled = model_scaled.predict(X_test_scaled)\n",
        "accuracy_scaled = accuracy_score(y_test, y_pred_scaled)\n",
        "\n",
        "# Compare results\n",
        "print(f\"Accuracy on raw data:         {accuracy_raw:.4f}\")\n",
        "print(f\"Accuracy on standardized data: {accuracy_scaled:.4f}\")"
      ],
      "metadata": {
        "colab": {
          "base_uri": "https://localhost:8080/"
        },
        "id": "nCAPKv6ZSQr8",
        "outputId": "c0b4cfd2-f7af-48f3-e5d0-3d8eafe77127"
      },
      "execution_count": 23,
      "outputs": [
        {
          "output_type": "stream",
          "name": "stdout",
          "text": [
            "Accuracy on raw data:         0.9561\n",
            "Accuracy on standardized data: 0.9737\n"
          ]
        }
      ]
    },
    {
      "cell_type": "code",
      "source": [
        "# Q. 24 :- Write a Python program to train Logistic Regression and find the optimal C (regularization strength) using cross-validation.\n",
        "# Ans :-\n",
        "\n",
        "import pandas as pd\n",
        "from sklearn.datasets import load_breast_cancer\n",
        "from sklearn.linear_model import LogisticRegressionCV\n",
        "from sklearn.model_selection import train_test_split\n",
        "from sklearn.metrics import accuracy_score\n",
        "\n",
        "# Load dataset\n",
        "data = load_breast_cancer()\n",
        "X = pd.DataFrame(data.data, columns=data.feature_names)\n",
        "y = pd.Series(data.target)\n",
        "\n",
        "# Split into train and test sets\n",
        "X_train, X_test, y_train, y_test = train_test_split(X, y, test_size=0.2, random_state=42)\n",
        "\n",
        "# Train Logistic Regression with cross-validation to find optimal C\n",
        "model = LogisticRegressionCV(\n",
        "    Cs=10,                  # Try 10 values for C\n",
        "    cv=5,                   # 5-fold cross-validation\n",
        "    penalty='l2',           # L2 regularization\n",
        "    solver='lbfgs',         # Solver that supports L2\n",
        "    max_iter=10000,\n",
        "    scoring='accuracy',\n",
        "    random_state=42\n",
        ")\n",
        "model.fit(X_train, y_train)\n",
        "\n",
        "# Evaluate on test set\n",
        "y_pred = model.predict(X_test)\n",
        "accuracy = accuracy_score(y_test, y_pred)\n",
        "\n",
        "# Output results\n",
        "print(f\"Optimal C value: {model.C_[0]:.4f}\")\n",
        "print(f\"Test Set Accuracy: {accuracy:.4f}\")"
      ],
      "metadata": {
        "colab": {
          "base_uri": "https://localhost:8080/"
        },
        "id": "ZNhie21LSkMA",
        "outputId": "d59f66db-7e0f-4153-d4cd-481f16f4b5bd"
      },
      "execution_count": 24,
      "outputs": [
        {
          "output_type": "stream",
          "name": "stdout",
          "text": [
            "Optimal C value: 166.8101\n",
            "Test Set Accuracy: 0.9737\n"
          ]
        }
      ]
    },
    {
      "cell_type": "code",
      "source": [
        "# Q. 25 :- Write a Python program to train Logistic Regression, save the trained model using joblib, and load it again to make predictions.\n",
        "# Ans :-\n",
        "\n",
        "import pandas as pd\n",
        "from sklearn.datasets import load_breast_cancer\n",
        "from sklearn.linear_model import LogisticRegression\n",
        "from sklearn.model_selection import train_test_split\n",
        "from sklearn.metrics import accuracy_score\n",
        "import joblib\n",
        "\n",
        "# Load dataset\n",
        "data = load_breast_cancer()\n",
        "X = pd.DataFrame(data.data, columns=data.feature_names)\n",
        "y = pd.Series(data.target)\n",
        "\n",
        "# Split into train and test sets\n",
        "X_train, X_test, y_train, y_test = train_test_split(X, y, test_size=0.2, random_state=42)\n",
        "\n",
        "# Train Logistic Regression model\n",
        "model = LogisticRegression(max_iter=10000)\n",
        "model.fit(X_train, y_train)\n",
        "\n",
        "# Save the trained model\n",
        "joblib.dump(model, 'logistic_model.joblib')\n",
        "\n",
        "# Load the saved model\n",
        "loaded_model = joblib.load('logistic_model.joblib')\n",
        "\n",
        "# Make predictions with the loaded model\n",
        "y_pred = loaded_model.predict(X_test)\n",
        "accuracy = accuracy_score(y_test, y_pred)\n",
        "\n",
        "print(f\"Accuracy of loaded model: {accuracy:.4f}\")"
      ],
      "metadata": {
        "colab": {
          "base_uri": "https://localhost:8080/"
        },
        "id": "NtFSy5hBS2jr",
        "outputId": "aba5d155-8f44-4d6f-e04a-950e69218008"
      },
      "execution_count": 25,
      "outputs": [
        {
          "output_type": "stream",
          "name": "stdout",
          "text": [
            "Accuracy of loaded model: 0.9561\n"
          ]
        }
      ]
    },
    {
      "cell_type": "code",
      "source": [],
      "metadata": {
        "id": "JMYkRu0_TOra"
      },
      "execution_count": null,
      "outputs": []
    }
  ]
}